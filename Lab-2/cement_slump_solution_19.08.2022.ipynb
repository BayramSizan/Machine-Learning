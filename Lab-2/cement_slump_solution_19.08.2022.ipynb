{
 "cells": [
  {
   "cell_type": "markdown",
   "id": "ChSfxCD9HmJs",
   "metadata": {
    "id": "ChSfxCD9HmJs"
   },
   "source": [
    "___\n",
    "\n",
    "<p style=\"text-align: center;\"><img src=\"https://docs.google.com/uc?id=1lY0Uj5R04yMY3-ZppPWxqCr5pvBLYPnV\" class=\"img-fluid\" alt=\"CLRSWY\"></p>\n",
    "\n",
    "___"
   ]
  },
  {
   "cell_type": "markdown",
   "id": "2af5ac38",
   "metadata": {
    "id": "2af5ac38"
   },
   "source": [
    "# Concrete Slump Test Regression"
   ]
  },
  {
   "cell_type": "markdown",
   "id": "de0f6448",
   "metadata": {
    "id": "de0f6448"
   },
   "source": [
    "The concrete slump test measures the consistency of fresh concrete before it sets. It is performed to check the workability of freshly made concrete, and therefore the ease with which concrete flows. It can also be used as an indicator of an improperly mixed batch.\n",
    "\n",
    "<img src=\"https://i0.wp.com/civiconcepts.com/wp-content/uploads/2019/08/Slump-Cone-test-of-concrete.jpg?fit=977%2C488&ssl=1\">\n",
    "\n",
    "Our data set consists of various cement properties and the resulting slump test metrics in cm. Later on the set concrete is tested for its compressive strength 28 days later.\n",
    "\n",
    "Input variables (9):\n",
    "\n",
    "(component kg in one M^3 concrete)(7):\n",
    "* Cement\n",
    "* Slag\n",
    "* Fly ash\n",
    "* Water\n",
    "* SP\n",
    "* Coarse Aggr.\n",
    "* Fine Aggr.\n",
    "\n",
    "(Measurements)(2)\n",
    "* SLUMP (cm)\n",
    "* FLOW (cm)\n",
    "\n",
    "Target variable (1):\n",
    "* **28-day Compressive Strength (Mpa)**\n",
    "\n",
    "Data Source: https://archive.ics.uci.edu/ml/datasets/Concrete+Slump+Test\n",
    "\n",
    "*Credit: Yeh, I-Cheng, \"Modeling slump flow of concrete using second-order regressions and artificial neural networks,\" Cement and Concrete Composites, Vol.29, No. 6, 474-480, 2007.*"
   ]
  },
  {
   "cell_type": "markdown",
   "id": "ebc30337",
   "metadata": {
    "id": "ebc30337"
   },
   "source": [
    "# Importing dependencies"
   ]
  },
  {
   "cell_type": "code",
   "execution_count": 1,
   "id": "spare-thumb",
   "metadata": {
    "id": "spare-thumb"
   },
   "outputs": [],
   "source": [
    "import numpy as np\n",
    "import pandas as pd\n",
    "import matplotlib.pyplot as plt\n",
    "import seaborn as sns\n",
    "plt.rcParams[\"figure.figsize\"] = (10,6)\n",
    "pd.set_option('display.max_columns', 100)"
   ]
  },
  {
   "cell_type": "markdown",
   "id": "ccc2374b",
   "metadata": {
    "id": "ccc2374b"
   },
   "source": [
    "# Loading data and EDA"
   ]
  },
  {
   "cell_type": "code",
   "execution_count": 2,
   "id": "atlantic-accountability",
   "metadata": {
    "id": "atlantic-accountability",
    "outputId": "ed5c5f8f-ee98-4b0a-fd05-91bcd0e8cb65"
   },
   "outputs": [
    {
     "ename": "FileNotFoundError",
     "evalue": "[Errno 2] No such file or directory: 'cement_slump.csv'",
     "output_type": "error",
     "traceback": [
      "\u001b[1;31m---------------------------------------------------------------------------\u001b[0m",
      "\u001b[1;31mFileNotFoundError\u001b[0m                         Traceback (most recent call last)",
      "Input \u001b[1;32mIn [2]\u001b[0m, in \u001b[0;36m<cell line: 1>\u001b[1;34m()\u001b[0m\n\u001b[1;32m----> 1\u001b[0m df \u001b[38;5;241m=\u001b[39m \u001b[43mpd\u001b[49m\u001b[38;5;241;43m.\u001b[39;49m\u001b[43mread_csv\u001b[49m\u001b[43m(\u001b[49m\u001b[38;5;124;43m\"\u001b[39;49m\u001b[38;5;124;43mcement_slump.csv\u001b[39;49m\u001b[38;5;124;43m\"\u001b[39;49m\u001b[43m)\u001b[49m\n\u001b[0;32m      2\u001b[0m df\u001b[38;5;241m.\u001b[39mhead()\n",
      "File \u001b[1;32m~\\anaconda3\\lib\\site-packages\\pandas\\util\\_decorators.py:311\u001b[0m, in \u001b[0;36mdeprecate_nonkeyword_arguments.<locals>.decorate.<locals>.wrapper\u001b[1;34m(*args, **kwargs)\u001b[0m\n\u001b[0;32m    305\u001b[0m \u001b[38;5;28;01mif\u001b[39;00m \u001b[38;5;28mlen\u001b[39m(args) \u001b[38;5;241m>\u001b[39m num_allow_args:\n\u001b[0;32m    306\u001b[0m     warnings\u001b[38;5;241m.\u001b[39mwarn(\n\u001b[0;32m    307\u001b[0m         msg\u001b[38;5;241m.\u001b[39mformat(arguments\u001b[38;5;241m=\u001b[39marguments),\n\u001b[0;32m    308\u001b[0m         \u001b[38;5;167;01mFutureWarning\u001b[39;00m,\n\u001b[0;32m    309\u001b[0m         stacklevel\u001b[38;5;241m=\u001b[39mstacklevel,\n\u001b[0;32m    310\u001b[0m     )\n\u001b[1;32m--> 311\u001b[0m \u001b[38;5;28;01mreturn\u001b[39;00m func(\u001b[38;5;241m*\u001b[39margs, \u001b[38;5;241m*\u001b[39m\u001b[38;5;241m*\u001b[39mkwargs)\n",
      "File \u001b[1;32m~\\anaconda3\\lib\\site-packages\\pandas\\io\\parsers\\readers.py:680\u001b[0m, in \u001b[0;36mread_csv\u001b[1;34m(filepath_or_buffer, sep, delimiter, header, names, index_col, usecols, squeeze, prefix, mangle_dupe_cols, dtype, engine, converters, true_values, false_values, skipinitialspace, skiprows, skipfooter, nrows, na_values, keep_default_na, na_filter, verbose, skip_blank_lines, parse_dates, infer_datetime_format, keep_date_col, date_parser, dayfirst, cache_dates, iterator, chunksize, compression, thousands, decimal, lineterminator, quotechar, quoting, doublequote, escapechar, comment, encoding, encoding_errors, dialect, error_bad_lines, warn_bad_lines, on_bad_lines, delim_whitespace, low_memory, memory_map, float_precision, storage_options)\u001b[0m\n\u001b[0;32m    665\u001b[0m kwds_defaults \u001b[38;5;241m=\u001b[39m _refine_defaults_read(\n\u001b[0;32m    666\u001b[0m     dialect,\n\u001b[0;32m    667\u001b[0m     delimiter,\n\u001b[1;32m   (...)\u001b[0m\n\u001b[0;32m    676\u001b[0m     defaults\u001b[38;5;241m=\u001b[39m{\u001b[38;5;124m\"\u001b[39m\u001b[38;5;124mdelimiter\u001b[39m\u001b[38;5;124m\"\u001b[39m: \u001b[38;5;124m\"\u001b[39m\u001b[38;5;124m,\u001b[39m\u001b[38;5;124m\"\u001b[39m},\n\u001b[0;32m    677\u001b[0m )\n\u001b[0;32m    678\u001b[0m kwds\u001b[38;5;241m.\u001b[39mupdate(kwds_defaults)\n\u001b[1;32m--> 680\u001b[0m \u001b[38;5;28;01mreturn\u001b[39;00m \u001b[43m_read\u001b[49m\u001b[43m(\u001b[49m\u001b[43mfilepath_or_buffer\u001b[49m\u001b[43m,\u001b[49m\u001b[43m \u001b[49m\u001b[43mkwds\u001b[49m\u001b[43m)\u001b[49m\n",
      "File \u001b[1;32m~\\anaconda3\\lib\\site-packages\\pandas\\io\\parsers\\readers.py:575\u001b[0m, in \u001b[0;36m_read\u001b[1;34m(filepath_or_buffer, kwds)\u001b[0m\n\u001b[0;32m    572\u001b[0m _validate_names(kwds\u001b[38;5;241m.\u001b[39mget(\u001b[38;5;124m\"\u001b[39m\u001b[38;5;124mnames\u001b[39m\u001b[38;5;124m\"\u001b[39m, \u001b[38;5;28;01mNone\u001b[39;00m))\n\u001b[0;32m    574\u001b[0m \u001b[38;5;66;03m# Create the parser.\u001b[39;00m\n\u001b[1;32m--> 575\u001b[0m parser \u001b[38;5;241m=\u001b[39m TextFileReader(filepath_or_buffer, \u001b[38;5;241m*\u001b[39m\u001b[38;5;241m*\u001b[39mkwds)\n\u001b[0;32m    577\u001b[0m \u001b[38;5;28;01mif\u001b[39;00m chunksize \u001b[38;5;129;01mor\u001b[39;00m iterator:\n\u001b[0;32m    578\u001b[0m     \u001b[38;5;28;01mreturn\u001b[39;00m parser\n",
      "File \u001b[1;32m~\\anaconda3\\lib\\site-packages\\pandas\\io\\parsers\\readers.py:933\u001b[0m, in \u001b[0;36mTextFileReader.__init__\u001b[1;34m(self, f, engine, **kwds)\u001b[0m\n\u001b[0;32m    930\u001b[0m     \u001b[38;5;28mself\u001b[39m\u001b[38;5;241m.\u001b[39moptions[\u001b[38;5;124m\"\u001b[39m\u001b[38;5;124mhas_index_names\u001b[39m\u001b[38;5;124m\"\u001b[39m] \u001b[38;5;241m=\u001b[39m kwds[\u001b[38;5;124m\"\u001b[39m\u001b[38;5;124mhas_index_names\u001b[39m\u001b[38;5;124m\"\u001b[39m]\n\u001b[0;32m    932\u001b[0m \u001b[38;5;28mself\u001b[39m\u001b[38;5;241m.\u001b[39mhandles: IOHandles \u001b[38;5;241m|\u001b[39m \u001b[38;5;28;01mNone\u001b[39;00m \u001b[38;5;241m=\u001b[39m \u001b[38;5;28;01mNone\u001b[39;00m\n\u001b[1;32m--> 933\u001b[0m \u001b[38;5;28mself\u001b[39m\u001b[38;5;241m.\u001b[39m_engine \u001b[38;5;241m=\u001b[39m \u001b[38;5;28;43mself\u001b[39;49m\u001b[38;5;241;43m.\u001b[39;49m\u001b[43m_make_engine\u001b[49m\u001b[43m(\u001b[49m\u001b[43mf\u001b[49m\u001b[43m,\u001b[49m\u001b[43m \u001b[49m\u001b[38;5;28;43mself\u001b[39;49m\u001b[38;5;241;43m.\u001b[39;49m\u001b[43mengine\u001b[49m\u001b[43m)\u001b[49m\n",
      "File \u001b[1;32m~\\anaconda3\\lib\\site-packages\\pandas\\io\\parsers\\readers.py:1217\u001b[0m, in \u001b[0;36mTextFileReader._make_engine\u001b[1;34m(self, f, engine)\u001b[0m\n\u001b[0;32m   1213\u001b[0m     mode \u001b[38;5;241m=\u001b[39m \u001b[38;5;124m\"\u001b[39m\u001b[38;5;124mrb\u001b[39m\u001b[38;5;124m\"\u001b[39m\n\u001b[0;32m   1214\u001b[0m \u001b[38;5;66;03m# error: No overload variant of \"get_handle\" matches argument types\u001b[39;00m\n\u001b[0;32m   1215\u001b[0m \u001b[38;5;66;03m# \"Union[str, PathLike[str], ReadCsvBuffer[bytes], ReadCsvBuffer[str]]\"\u001b[39;00m\n\u001b[0;32m   1216\u001b[0m \u001b[38;5;66;03m# , \"str\", \"bool\", \"Any\", \"Any\", \"Any\", \"Any\", \"Any\"\u001b[39;00m\n\u001b[1;32m-> 1217\u001b[0m \u001b[38;5;28mself\u001b[39m\u001b[38;5;241m.\u001b[39mhandles \u001b[38;5;241m=\u001b[39m \u001b[43mget_handle\u001b[49m\u001b[43m(\u001b[49m\u001b[43m  \u001b[49m\u001b[38;5;66;43;03m# type: ignore[call-overload]\u001b[39;49;00m\n\u001b[0;32m   1218\u001b[0m \u001b[43m    \u001b[49m\u001b[43mf\u001b[49m\u001b[43m,\u001b[49m\n\u001b[0;32m   1219\u001b[0m \u001b[43m    \u001b[49m\u001b[43mmode\u001b[49m\u001b[43m,\u001b[49m\n\u001b[0;32m   1220\u001b[0m \u001b[43m    \u001b[49m\u001b[43mencoding\u001b[49m\u001b[38;5;241;43m=\u001b[39;49m\u001b[38;5;28;43mself\u001b[39;49m\u001b[38;5;241;43m.\u001b[39;49m\u001b[43moptions\u001b[49m\u001b[38;5;241;43m.\u001b[39;49m\u001b[43mget\u001b[49m\u001b[43m(\u001b[49m\u001b[38;5;124;43m\"\u001b[39;49m\u001b[38;5;124;43mencoding\u001b[39;49m\u001b[38;5;124;43m\"\u001b[39;49m\u001b[43m,\u001b[49m\u001b[43m \u001b[49m\u001b[38;5;28;43;01mNone\u001b[39;49;00m\u001b[43m)\u001b[49m\u001b[43m,\u001b[49m\n\u001b[0;32m   1221\u001b[0m \u001b[43m    \u001b[49m\u001b[43mcompression\u001b[49m\u001b[38;5;241;43m=\u001b[39;49m\u001b[38;5;28;43mself\u001b[39;49m\u001b[38;5;241;43m.\u001b[39;49m\u001b[43moptions\u001b[49m\u001b[38;5;241;43m.\u001b[39;49m\u001b[43mget\u001b[49m\u001b[43m(\u001b[49m\u001b[38;5;124;43m\"\u001b[39;49m\u001b[38;5;124;43mcompression\u001b[39;49m\u001b[38;5;124;43m\"\u001b[39;49m\u001b[43m,\u001b[49m\u001b[43m \u001b[49m\u001b[38;5;28;43;01mNone\u001b[39;49;00m\u001b[43m)\u001b[49m\u001b[43m,\u001b[49m\n\u001b[0;32m   1222\u001b[0m \u001b[43m    \u001b[49m\u001b[43mmemory_map\u001b[49m\u001b[38;5;241;43m=\u001b[39;49m\u001b[38;5;28;43mself\u001b[39;49m\u001b[38;5;241;43m.\u001b[39;49m\u001b[43moptions\u001b[49m\u001b[38;5;241;43m.\u001b[39;49m\u001b[43mget\u001b[49m\u001b[43m(\u001b[49m\u001b[38;5;124;43m\"\u001b[39;49m\u001b[38;5;124;43mmemory_map\u001b[39;49m\u001b[38;5;124;43m\"\u001b[39;49m\u001b[43m,\u001b[49m\u001b[43m \u001b[49m\u001b[38;5;28;43;01mFalse\u001b[39;49;00m\u001b[43m)\u001b[49m\u001b[43m,\u001b[49m\n\u001b[0;32m   1223\u001b[0m \u001b[43m    \u001b[49m\u001b[43mis_text\u001b[49m\u001b[38;5;241;43m=\u001b[39;49m\u001b[43mis_text\u001b[49m\u001b[43m,\u001b[49m\n\u001b[0;32m   1224\u001b[0m \u001b[43m    \u001b[49m\u001b[43merrors\u001b[49m\u001b[38;5;241;43m=\u001b[39;49m\u001b[38;5;28;43mself\u001b[39;49m\u001b[38;5;241;43m.\u001b[39;49m\u001b[43moptions\u001b[49m\u001b[38;5;241;43m.\u001b[39;49m\u001b[43mget\u001b[49m\u001b[43m(\u001b[49m\u001b[38;5;124;43m\"\u001b[39;49m\u001b[38;5;124;43mencoding_errors\u001b[39;49m\u001b[38;5;124;43m\"\u001b[39;49m\u001b[43m,\u001b[49m\u001b[43m \u001b[49m\u001b[38;5;124;43m\"\u001b[39;49m\u001b[38;5;124;43mstrict\u001b[39;49m\u001b[38;5;124;43m\"\u001b[39;49m\u001b[43m)\u001b[49m\u001b[43m,\u001b[49m\n\u001b[0;32m   1225\u001b[0m \u001b[43m    \u001b[49m\u001b[43mstorage_options\u001b[49m\u001b[38;5;241;43m=\u001b[39;49m\u001b[38;5;28;43mself\u001b[39;49m\u001b[38;5;241;43m.\u001b[39;49m\u001b[43moptions\u001b[49m\u001b[38;5;241;43m.\u001b[39;49m\u001b[43mget\u001b[49m\u001b[43m(\u001b[49m\u001b[38;5;124;43m\"\u001b[39;49m\u001b[38;5;124;43mstorage_options\u001b[39;49m\u001b[38;5;124;43m\"\u001b[39;49m\u001b[43m,\u001b[49m\u001b[43m \u001b[49m\u001b[38;5;28;43;01mNone\u001b[39;49;00m\u001b[43m)\u001b[49m\u001b[43m,\u001b[49m\n\u001b[0;32m   1226\u001b[0m \u001b[43m\u001b[49m\u001b[43m)\u001b[49m\n\u001b[0;32m   1227\u001b[0m \u001b[38;5;28;01massert\u001b[39;00m \u001b[38;5;28mself\u001b[39m\u001b[38;5;241m.\u001b[39mhandles \u001b[38;5;129;01mis\u001b[39;00m \u001b[38;5;129;01mnot\u001b[39;00m \u001b[38;5;28;01mNone\u001b[39;00m\n\u001b[0;32m   1228\u001b[0m f \u001b[38;5;241m=\u001b[39m \u001b[38;5;28mself\u001b[39m\u001b[38;5;241m.\u001b[39mhandles\u001b[38;5;241m.\u001b[39mhandle\n",
      "File \u001b[1;32m~\\anaconda3\\lib\\site-packages\\pandas\\io\\common.py:789\u001b[0m, in \u001b[0;36mget_handle\u001b[1;34m(path_or_buf, mode, encoding, compression, memory_map, is_text, errors, storage_options)\u001b[0m\n\u001b[0;32m    784\u001b[0m \u001b[38;5;28;01melif\u001b[39;00m \u001b[38;5;28misinstance\u001b[39m(handle, \u001b[38;5;28mstr\u001b[39m):\n\u001b[0;32m    785\u001b[0m     \u001b[38;5;66;03m# Check whether the filename is to be opened in binary mode.\u001b[39;00m\n\u001b[0;32m    786\u001b[0m     \u001b[38;5;66;03m# Binary mode does not support 'encoding' and 'newline'.\u001b[39;00m\n\u001b[0;32m    787\u001b[0m     \u001b[38;5;28;01mif\u001b[39;00m ioargs\u001b[38;5;241m.\u001b[39mencoding \u001b[38;5;129;01mand\u001b[39;00m \u001b[38;5;124m\"\u001b[39m\u001b[38;5;124mb\u001b[39m\u001b[38;5;124m\"\u001b[39m \u001b[38;5;129;01mnot\u001b[39;00m \u001b[38;5;129;01min\u001b[39;00m ioargs\u001b[38;5;241m.\u001b[39mmode:\n\u001b[0;32m    788\u001b[0m         \u001b[38;5;66;03m# Encoding\u001b[39;00m\n\u001b[1;32m--> 789\u001b[0m         handle \u001b[38;5;241m=\u001b[39m \u001b[38;5;28;43mopen\u001b[39;49m\u001b[43m(\u001b[49m\n\u001b[0;32m    790\u001b[0m \u001b[43m            \u001b[49m\u001b[43mhandle\u001b[49m\u001b[43m,\u001b[49m\n\u001b[0;32m    791\u001b[0m \u001b[43m            \u001b[49m\u001b[43mioargs\u001b[49m\u001b[38;5;241;43m.\u001b[39;49m\u001b[43mmode\u001b[49m\u001b[43m,\u001b[49m\n\u001b[0;32m    792\u001b[0m \u001b[43m            \u001b[49m\u001b[43mencoding\u001b[49m\u001b[38;5;241;43m=\u001b[39;49m\u001b[43mioargs\u001b[49m\u001b[38;5;241;43m.\u001b[39;49m\u001b[43mencoding\u001b[49m\u001b[43m,\u001b[49m\n\u001b[0;32m    793\u001b[0m \u001b[43m            \u001b[49m\u001b[43merrors\u001b[49m\u001b[38;5;241;43m=\u001b[39;49m\u001b[43merrors\u001b[49m\u001b[43m,\u001b[49m\n\u001b[0;32m    794\u001b[0m \u001b[43m            \u001b[49m\u001b[43mnewline\u001b[49m\u001b[38;5;241;43m=\u001b[39;49m\u001b[38;5;124;43m\"\u001b[39;49m\u001b[38;5;124;43m\"\u001b[39;49m\u001b[43m,\u001b[49m\n\u001b[0;32m    795\u001b[0m \u001b[43m        \u001b[49m\u001b[43m)\u001b[49m\n\u001b[0;32m    796\u001b[0m     \u001b[38;5;28;01melse\u001b[39;00m:\n\u001b[0;32m    797\u001b[0m         \u001b[38;5;66;03m# Binary mode\u001b[39;00m\n\u001b[0;32m    798\u001b[0m         handle \u001b[38;5;241m=\u001b[39m \u001b[38;5;28mopen\u001b[39m(handle, ioargs\u001b[38;5;241m.\u001b[39mmode)\n",
      "\u001b[1;31mFileNotFoundError\u001b[0m: [Errno 2] No such file or directory: 'cement_slump.csv'"
     ]
    }
   ],
   "source": [
    "df = pd.read_csv(\"cement_slump.csv\")\n",
    "df.head()"
   ]
  },
  {
   "cell_type": "code",
   "execution_count": null,
   "id": "modified-blame",
   "metadata": {
    "id": "modified-blame",
    "outputId": "49993851-3881-4eb7-dea8-0b8683910845"
   },
   "outputs": [],
   "source": [
    "df.info()"
   ]
  },
  {
   "cell_type": "code",
   "execution_count": null,
   "id": "3dcba22d",
   "metadata": {
    "id": "3dcba22d",
    "outputId": "de9828a1-b983-47a8-d524-10c0547fd076"
   },
   "outputs": [],
   "source": [
    "df.describe().T"
   ]
  },
  {
   "cell_type": "code",
   "execution_count": null,
   "id": "b7d24c72",
   "metadata": {
    "id": "b7d24c72",
    "outputId": "f9683829-99be-4d45-a242-e3b675037a2a"
   },
   "outputs": [],
   "source": [
    "df.corr()['Compressive Strength (28-day)(Mpa)']"
   ]
  },
  {
   "cell_type": "markdown",
   "id": "c1552cb6",
   "metadata": {
    "id": "c1552cb6"
   },
   "source": [
    "## Graphical analysis"
   ]
  },
  {
   "cell_type": "code",
   "execution_count": null,
   "id": "6c4cf9c2",
   "metadata": {
    "id": "6c4cf9c2",
    "outputId": "f55bf28f-1520-446d-e263-6a8ed9d34664"
   },
   "outputs": [],
   "source": [
    "plt.figure(figsize=(20,10))\n",
    "sns.heatmap(df.corr(), annot = True, vmin=-1, vmax=1)"
   ]
  },
  {
   "cell_type": "code",
   "execution_count": null,
   "id": "14acc455",
   "metadata": {
    "id": "14acc455",
    "outputId": "1c263fde-944d-4732-cb39-612d586d6741"
   },
   "outputs": [],
   "source": [
    "sns.pairplot(df)"
   ]
  },
  {
   "cell_type": "code",
   "execution_count": null,
   "id": "1e0ac692",
   "metadata": {
    "id": "1e0ac692",
    "outputId": "e871f3e8-c5aa-4745-b337-8b125dd2fd9b"
   },
   "outputs": [],
   "source": [
    "plt.figure(figsize =(20,10))\n",
    "df.boxplot()"
   ]
  },
  {
   "cell_type": "markdown",
   "id": "delayed-textbook",
   "metadata": {
    "id": "delayed-textbook"
   },
   "source": [
    "### Train | Test Split"
   ]
  },
  {
   "cell_type": "code",
   "execution_count": null,
   "id": "pointed-swift",
   "metadata": {
    "id": "pointed-swift"
   },
   "outputs": [],
   "source": [
    "X = df.drop(\"Compressive Strength (28-day)(Mpa)\", axis =1)\n",
    "y = df[\"Compressive Strength (28-day)(Mpa)\"]"
   ]
  },
  {
   "cell_type": "code",
   "execution_count": null,
   "id": "rubber-fairy",
   "metadata": {
    "id": "rubber-fairy"
   },
   "outputs": [],
   "source": [
    "from sklearn.model_selection import train_test_split"
   ]
  },
  {
   "cell_type": "code",
   "execution_count": null,
   "id": "graphic-lafayette",
   "metadata": {
    "id": "graphic-lafayette"
   },
   "outputs": [],
   "source": [
    "X_train, X_test, y_train, y_test = train_test_split(X, y, test_size=0.2, random_state=42) "
   ]
  },
  {
   "cell_type": "markdown",
   "id": "sized-census",
   "metadata": {
    "id": "sized-census"
   },
   "source": [
    "## Scaling the Data"
   ]
  },
  {
   "cell_type": "code",
   "execution_count": null,
   "id": "identified-closing",
   "metadata": {
    "id": "identified-closing"
   },
   "outputs": [],
   "source": [
    "from sklearn.preprocessing import StandardScaler, MinMaxScaler, RobustScaler\n"
   ]
  },
  {
   "cell_type": "code",
   "execution_count": null,
   "id": "anticipated-logging",
   "metadata": {
    "id": "anticipated-logging",
    "outputId": "f8b5948e-c809-4e62-903a-bfa7ae55805d"
   },
   "outputs": [],
   "source": [
    "scaler = StandardScaler() # will be used in pipeline later"
   ]
  },
  {
   "cell_type": "code",
   "execution_count": null,
   "id": "varied-final",
   "metadata": {
    "id": "varied-final"
   },
   "outputs": [],
   "source": [
    "# if you don't use pipeline, you can use scaler directly\n",
    "scaler.fit(X_train)\n",
    "X_train_scaled = scaler.transform(X_train) \n",
    "X_test_scaled = scaler.transform(X_test)"
   ]
  },
  {
   "cell_type": "markdown",
   "id": "83d83876",
   "metadata": {
    "id": "sonic-delivery"
   },
   "source": [
    "## Pipeline"
   ]
  },
  {
   "cell_type": "raw",
   "id": "466d7567",
   "metadata": {},
   "source": [
    "What happens can be described as follows:\n",
    "\n",
    "Step 1: The data are split into TRAINING data and TEST data according to ratio of train_test_split\n",
    "\n",
    "Step 2: the scaler is fitted on the TRAINING data\n",
    "\n",
    "Step 3: the scaler transforms TRAINING data\n",
    "\n",
    "Step 4: the models are fitted/trained using the transformed TRAINING data\n",
    "\n",
    "Step 5: the scaler is used to transform the TEST data\n",
    "\n",
    "Step 6: the trained models predict using the transformed TEST data\n",
    "\n",
    "\n",
    "pipe.fit(X_train, y_train)--> scaler.fit_transform(X_train) --> lm.fit(scaled_X_train, y_train)\n",
    "\n",
    "pipe.predict(X_test) --> scaler.transform(X_test) --> lm.predict(scaled_X_test)"
   ]
  },
  {
   "cell_type": "markdown",
   "id": "emerging-module",
   "metadata": {
    "id": "emerging-module"
   },
   "source": [
    "## Linear Regression"
   ]
  },
  {
   "cell_type": "code",
   "execution_count": null,
   "id": "f33403ff",
   "metadata": {},
   "outputs": [],
   "source": [
    "from sklearn.pipeline import Pipeline # pipeline is used to combine scaler and model"
   ]
  },
  {
   "cell_type": "code",
   "execution_count": null,
   "id": "adaptive-emerald",
   "metadata": {
    "id": "adaptive-emerald"
   },
   "outputs": [],
   "source": [
    "from sklearn.linear_model import LinearRegression\n",
    "\n",
    "lm = LinearRegression() # will be used in pipeline later"
   ]
  },
  {
   "cell_type": "code",
   "execution_count": null,
   "id": "16e5e312",
   "metadata": {},
   "outputs": [],
   "source": [
    "pipe_lm = Pipeline([(\"scaler\", scaler), (\"lm\", lm)]) # pipeline is used to combine scaler and model"
   ]
  },
  {
   "cell_type": "code",
   "execution_count": null,
   "id": "former-register",
   "metadata": {
    "id": "former-register",
    "outputId": "89a5ef69-a67c-499a-f3e9-4c3b5dc29306"
   },
   "outputs": [],
   "source": [
    "pipe_lm.fit(X_train, y_train)"
   ]
  },
  {
   "cell_type": "code",
   "execution_count": null,
   "id": "mineral-spoke",
   "metadata": {
    "id": "mineral-spoke"
   },
   "outputs": [],
   "source": [
    "y_pred = pipe_lm.predict(X_test) # predict on test data\n",
    "y_train_pred = pipe_lm.predict(X_train) # predict on train data"
   ]
  },
  {
   "cell_type": "code",
   "execution_count": null,
   "id": "69dd6a8c",
   "metadata": {
    "id": "69dd6a8c"
   },
   "outputs": [],
   "source": [
    "from sklearn.metrics import mean_absolute_error, mean_squared_error, r2_score\n",
    "\n",
    "def train_val(y_train, y_train_pred, y_test, y_pred, model_name):\n",
    "    \n",
    "    scores = {model_name+\"_train\": {\"R2\" : r2_score(y_train, y_train_pred),\n",
    "    \"mae\" : mean_absolute_error(y_train, y_train_pred),\n",
    "    \"mse\" : mean_squared_error(y_train, y_train_pred),                          \n",
    "    \"rmse\" : np.sqrt(mean_squared_error(y_train, y_train_pred))},\n",
    "    \n",
    "    model_name+\"_test\": {\"R2\" : r2_score(y_test, y_pred),\n",
    "    \"mae\" : mean_absolute_error(y_test, y_pred),\n",
    "    \"mse\" : mean_squared_error(y_test, y_pred),\n",
    "    \"rmse\" : np.sqrt(mean_squared_error(y_test, y_pred))}}\n",
    "    \n",
    "    return pd.DataFrame(scores)"
   ]
  },
  {
   "cell_type": "code",
   "execution_count": null,
   "id": "e946a502",
   "metadata": {
    "id": "e946a502",
    "outputId": "02557f95-6aa3-4232-ce86-2069bafaf2ec"
   },
   "outputs": [],
   "source": [
    "ls =train_val(y_train, y_train_pred, y_test, y_pred, \"linear\") # train and test scores\n",
    "ls"
   ]
  },
  {
   "cell_type": "code",
   "execution_count": null,
   "id": "f5a9fcab",
   "metadata": {
    "id": "f5a9fcab"
   },
   "outputs": [],
   "source": []
  },
  {
   "cell_type": "markdown",
   "id": "meaningful-israel",
   "metadata": {
    "id": "meaningful-israel"
   },
   "source": [
    "## Cross Validate"
   ]
  },
  {
   "cell_type": "code",
   "execution_count": null,
   "id": "mature-verification",
   "metadata": {
    "id": "mature-verification"
   },
   "outputs": [],
   "source": [
    "#from sklearn.metrics import SCORERS\n",
    "#list(SCORERS.keys())"
   ]
  },
  {
   "cell_type": "code",
   "execution_count": null,
   "id": "unusual-flexibility",
   "metadata": {
    "id": "unusual-flexibility"
   },
   "outputs": [],
   "source": [
    "from sklearn.model_selection import cross_validate, cross_val_score"
   ]
  },
  {
   "cell_type": "code",
   "execution_count": null,
   "id": "visible-roller",
   "metadata": {
    "id": "visible-roller"
   },
   "outputs": [],
   "source": [
    "model = Pipeline([(\"scaler\", scaler), (\"lm\", lm)])\n",
    "scores = cross_validate(model, X_train, y_train, scoring = ['r2', 'neg_mean_absolute_error','neg_mean_squared_error', \\\n",
    "                                                            'neg_root_mean_squared_error'], cv = 5)"
   ]
  },
  {
   "cell_type": "code",
   "execution_count": null,
   "id": "liable-investigation",
   "metadata": {
    "id": "liable-investigation",
    "outputId": "2b921da8-ee4e-45ff-be7b-74acf44a1253"
   },
   "outputs": [],
   "source": [
    "pd.DataFrame(scores, index = range(1,6))"
   ]
  },
  {
   "cell_type": "code",
   "execution_count": null,
   "id": "established-tournament",
   "metadata": {
    "id": "established-tournament",
    "outputId": "226d6173-0d66-4391-bae0-eb1ce137e80d"
   },
   "outputs": [],
   "source": [
    "scores = pd.DataFrame(scores, index=range(1,6))\n",
    "scores.iloc[:, 2:].mean()\n"
   ]
  },
  {
   "cell_type": "code",
   "execution_count": null,
   "id": "21ef03a4",
   "metadata": {
    "id": "21ef03a4",
    "outputId": "10f1832e-935e-4f44-fa1d-467a16b8545e"
   },
   "outputs": [],
   "source": [
    "train_val(y_train, y_train_pred, y_test, y_pred, \"linear\")"
   ]
  },
  {
   "cell_type": "code",
   "execution_count": null,
   "id": "e653fcd1",
   "metadata": {
    "id": "e653fcd1",
    "outputId": "75bb6b89-4146-4761-cc9e-49190c701615"
   },
   "outputs": [],
   "source": [
    "print(\"train RMSE:\", 2.423698/df[\"Compressive Strength (28-day)(Mpa)\"].mean())\n",
    "print(\"CV RMSE:\", 2.737927/df[\"Compressive Strength (28-day)(Mpa)\"].mean())"
   ]
  },
  {
   "cell_type": "code",
   "execution_count": null,
   "id": "center-array",
   "metadata": {
    "id": "center-array",
    "outputId": "d05cbc4f-26cb-4156-aef1-c0ff133c2bdb"
   },
   "outputs": [],
   "source": [
    "pipe_lm[\"lm\"].coef_"
   ]
  },
  {
   "cell_type": "code",
   "execution_count": null,
   "id": "innovative-responsibility",
   "metadata": {
    "id": "innovative-responsibility",
    "outputId": "0878aeac-c4c3-4606-c458-37dd3534b6ff"
   },
   "outputs": [],
   "source": [
    "lm_df = pd.DataFrame(pipe_lm[\"lm\"].coef_, columns = [\"lm_coef\"])\n",
    "lm_df"
   ]
  },
  {
   "cell_type": "markdown",
   "id": "ancient-contributor",
   "metadata": {
    "id": "ancient-contributor"
   },
   "source": [
    "## Ridge Regression"
   ]
  },
  {
   "cell_type": "code",
   "execution_count": null,
   "id": "involved-dylan",
   "metadata": {
    "id": "involved-dylan"
   },
   "outputs": [],
   "source": [
    "from sklearn.linear_model import Ridge"
   ]
  },
  {
   "cell_type": "code",
   "execution_count": null,
   "id": "romance-interpretation",
   "metadata": {
    "id": "romance-interpretation"
   },
   "outputs": [],
   "source": [
    "ridge_model = Ridge(alpha=1, random_state=42) # will be used in pipeline later\n"
   ]
  },
  {
   "cell_type": "code",
   "execution_count": null,
   "id": "26af7980",
   "metadata": {},
   "outputs": [],
   "source": [
    "pipe_ridge = Pipeline([(\"scaler\", scaler), (\"ridge\", ridge_model)]) # pipeline is used to combine scaler and model"
   ]
  },
  {
   "cell_type": "code",
   "execution_count": null,
   "id": "genuine-george",
   "metadata": {
    "id": "genuine-george",
    "outputId": "3e8141c8-9f1a-4e40-8d5b-458f2c30352e"
   },
   "outputs": [],
   "source": [
    "pipe_ridge.fit(X_train, y_train)"
   ]
  },
  {
   "cell_type": "code",
   "execution_count": null,
   "id": "executed-bottle",
   "metadata": {
    "id": "executed-bottle"
   },
   "outputs": [],
   "source": [
    "y_pred = pipe_ridge.predict(X_test)\n",
    "y_train_pred = pipe_ridge.predict(X_train)"
   ]
  },
  {
   "cell_type": "code",
   "execution_count": null,
   "id": "29a473f1",
   "metadata": {
    "id": "29a473f1",
    "outputId": "e1f519d8-9606-45cc-b197-59d32cd61af7"
   },
   "outputs": [],
   "source": [
    "rs = train_val(y_train, y_train_pred, y_test, y_pred, \"ridge\")\n",
    "rs"
   ]
  },
  {
   "cell_type": "code",
   "execution_count": null,
   "id": "earned-shoulder",
   "metadata": {
    "id": "earned-shoulder",
    "outputId": "2c7bd48c-0d46-429d-ccfd-82abb973baaf"
   },
   "outputs": [],
   "source": [
    "pd.concat([ls, rs], axis=1)  # combine train and test scores to compare"
   ]
  },
  {
   "cell_type": "code",
   "execution_count": null,
   "id": "based-clock",
   "metadata": {
    "id": "based-clock"
   },
   "outputs": [],
   "source": []
  },
  {
   "cell_type": "markdown",
   "id": "previous-mineral",
   "metadata": {
    "id": "previous-mineral"
   },
   "source": [
    "## For Ridge Regression CV with alpha : 1 "
   ]
  },
  {
   "cell_type": "code",
   "execution_count": null,
   "id": "broke-assets",
   "metadata": {
    "id": "broke-assets"
   },
   "outputs": [],
   "source": [
    "model = Pipeline([(\"scaler\", scaler), (\"ridge\", ridge_model)])\n",
    "scores = cross_validate(model, X_train, y_train,\n",
    "                    scoring=['r2', 'neg_mean_absolute_error','neg_mean_squared_error','neg_root_mean_squared_error'], cv=5)"
   ]
  },
  {
   "cell_type": "code",
   "execution_count": null,
   "id": "fa3df1b2",
   "metadata": {
    "id": "fa3df1b2",
    "outputId": "56d1cb98-d1f7-425c-ada2-78a7eaa917a6"
   },
   "outputs": [],
   "source": [
    "pd.DataFrame(scores, index = range(1, 6))"
   ]
  },
  {
   "cell_type": "code",
   "execution_count": null,
   "id": "comic-hazard",
   "metadata": {
    "id": "comic-hazard",
    "outputId": "649da1ae-4520-4e74-efbc-07aa332a32e4"
   },
   "outputs": [],
   "source": [
    "scores = pd.DataFrame(scores, index = range(1, 6))\n",
    "scores.iloc[:,2:].mean()"
   ]
  },
  {
   "cell_type": "code",
   "execution_count": null,
   "id": "68ab7268",
   "metadata": {
    "id": "68ab7268",
    "outputId": "65cb9c53-e43f-4142-a465-b800ab8c3cc4"
   },
   "outputs": [],
   "source": [
    "train_val(y_train, y_train_pred, y_test, y_pred, \"ridge\")"
   ]
  },
  {
   "cell_type": "code",
   "execution_count": null,
   "id": "neither-carry",
   "metadata": {
    "id": "neither-carry",
    "outputId": "40d1ac25-bb09-4fbb-d36f-603caf23a8fc"
   },
   "outputs": [],
   "source": [
    "pipe_ridge[\"ridge\"].coef_"
   ]
  },
  {
   "cell_type": "code",
   "execution_count": null,
   "id": "centered-syndicate",
   "metadata": {
    "id": "centered-syndicate"
   },
   "outputs": [],
   "source": [
    "rm_df = pd.DataFrame(pipe_ridge[\"ridge\"].coef_, columns = [\"ridge_coef_1\"])"
   ]
  },
  {
   "cell_type": "code",
   "execution_count": null,
   "id": "judicial-badge",
   "metadata": {
    "id": "judicial-badge",
    "outputId": "6820e68a-67f7-4ca5-d1ee-0f6c3564915f"
   },
   "outputs": [],
   "source": [
    "pd.concat([lm_df,rm_df], axis = 1) "
   ]
  },
  {
   "cell_type": "code",
   "execution_count": null,
   "id": "unlike-incident",
   "metadata": {
    "id": "unlike-incident"
   },
   "outputs": [],
   "source": []
  },
  {
   "cell_type": "markdown",
   "id": "premier-center",
   "metadata": {
    "id": "premier-center"
   },
   "source": [
    "## Choosing best alpha value with Cross-Validation"
   ]
  },
  {
   "cell_type": "code",
   "execution_count": null,
   "id": "satisfied-maple",
   "metadata": {
    "id": "satisfied-maple"
   },
   "outputs": [],
   "source": [
    "from sklearn.linear_model import RidgeCV"
   ]
  },
  {
   "cell_type": "code",
   "execution_count": null,
   "id": "sharing-martial",
   "metadata": {
    "id": "sharing-martial",
    "outputId": "6e022c55-6575-4ce4-cfd6-e10951917041"
   },
   "outputs": [],
   "source": [
    "alpha_space = np.linspace(0.1, 1, 100)\n",
    "alpha_space"
   ]
  },
  {
   "cell_type": "code",
   "execution_count": null,
   "id": "miniature-wildlife",
   "metadata": {
    "id": "miniature-wildlife"
   },
   "outputs": [],
   "source": [
    "ridge_cv_model = RidgeCV(alphas=alpha_space, cv = 10, scoring= \"neg_root_mean_squared_error\") # will be used in pipeline later"
   ]
  },
  {
   "cell_type": "code",
   "execution_count": null,
   "id": "ced7f807",
   "metadata": {},
   "outputs": [],
   "source": [
    "pipe_ridgecv = Pipeline([(\"scaler\", scaler), (\"ridgecv\", ridge_cv_model)]) # pipeline is used to combine scaler and model"
   ]
  },
  {
   "cell_type": "code",
   "execution_count": null,
   "id": "steady-import",
   "metadata": {
    "id": "steady-import",
    "outputId": "86989971-1510-4b00-e564-86c77cf8119c"
   },
   "outputs": [],
   "source": [
    "pipe_ridgecv.fit(X_train, y_train)"
   ]
  },
  {
   "cell_type": "code",
   "execution_count": null,
   "id": "italic-backup",
   "metadata": {
    "id": "italic-backup",
    "outputId": "08b25866-88e0-4d75-e7d3-919a6faacc54"
   },
   "outputs": [],
   "source": [
    "pipe_ridgecv[\"ridgecv\"].alpha_"
   ]
  },
  {
   "cell_type": "code",
   "execution_count": null,
   "id": "acknowledged-addition",
   "metadata": {
    "id": "acknowledged-addition"
   },
   "outputs": [],
   "source": [
    "# Ridge( alpha = 0.91)\n",
    "y_pred = pipe_ridgecv.predict(X_test)\n",
    "y_train_pred = pipe_ridgecv.predict(X_train)  "
   ]
  },
  {
   "cell_type": "code",
   "execution_count": null,
   "id": "c44c6386",
   "metadata": {
    "id": "c44c6386",
    "outputId": "d2e8301d-6e3a-43d5-bfbc-5e8d60e1630f"
   },
   "outputs": [],
   "source": [
    "rcs = train_val(y_train, y_train_pred, y_test, y_pred, \"ridge_cv\") \n",
    "rcs"
   ]
  },
  {
   "cell_type": "code",
   "execution_count": null,
   "id": "controlled-improvement",
   "metadata": {
    "id": "controlled-improvement",
    "outputId": "348e8cee-7fd4-4eb5-94e4-a33638ff4fdc"
   },
   "outputs": [],
   "source": [
    "pd.concat([ls, rs, rcs], axis = 1)"
   ]
  },
  {
   "cell_type": "code",
   "execution_count": null,
   "id": "suited-conjunction",
   "metadata": {
    "id": "suited-conjunction",
    "outputId": "346494b9-524e-4c57-9dac-1af441ff99c2"
   },
   "outputs": [],
   "source": [
    "pipe_ridgecv[\"ridgecv\"].coef_"
   ]
  },
  {
   "cell_type": "code",
   "execution_count": null,
   "id": "visible-robert",
   "metadata": {
    "id": "visible-robert"
   },
   "outputs": [],
   "source": [
    "rcm_df = pd.DataFrame(pipe_ridgecv[\"ridgecv\"].coef_, columns=[\"ridge_cv_coef_0.91\"])"
   ]
  },
  {
   "cell_type": "code",
   "execution_count": null,
   "id": "normal-chile",
   "metadata": {
    "id": "normal-chile",
    "outputId": "d60cac6b-955e-4f4e-b9ab-913804fa0433"
   },
   "outputs": [],
   "source": [
    "pd.concat([lm_df,rm_df, rcm_df], axis = 1) "
   ]
  },
  {
   "cell_type": "code",
   "execution_count": null,
   "id": "informal-triumph",
   "metadata": {
    "id": "informal-triumph"
   },
   "outputs": [],
   "source": []
  },
  {
   "cell_type": "markdown",
   "id": "pressed-basket",
   "metadata": {
    "id": "pressed-basket"
   },
   "source": [
    "## LASSO"
   ]
  },
  {
   "cell_type": "code",
   "execution_count": null,
   "id": "chicken-station",
   "metadata": {
    "id": "chicken-station"
   },
   "outputs": [],
   "source": [
    "from sklearn.linear_model import Lasso, LassoCV"
   ]
  },
  {
   "cell_type": "code",
   "execution_count": null,
   "id": "09fe5bb1",
   "metadata": {},
   "outputs": [],
   "source": [
    "lasso_model = Lasso(alpha=1, random_state=42)"
   ]
  },
  {
   "cell_type": "code",
   "execution_count": null,
   "id": "32b25285",
   "metadata": {},
   "outputs": [],
   "source": [
    "pipe_lasso = Pipeline([(\"scaler\", scaler), (\"lasso\", lasso_model)]) # pipeline is used to combine scaler and model"
   ]
  },
  {
   "cell_type": "code",
   "execution_count": null,
   "id": "palestinian-render",
   "metadata": {
    "id": "palestinian-render",
    "outputId": "d34e9053-36c7-4c5f-fdf8-6acf4e0a6b37"
   },
   "outputs": [],
   "source": [
    "pipe_lasso.fit(X_train, y_train)"
   ]
  },
  {
   "cell_type": "code",
   "execution_count": null,
   "id": "ed8c466b",
   "metadata": {
    "id": "ed8c466b"
   },
   "outputs": [],
   "source": [
    "y_pred = pipe_lasso.predict(X_test)\n",
    "y_train_pred = pipe_lasso.predict(X_train)"
   ]
  },
  {
   "cell_type": "code",
   "execution_count": null,
   "id": "0e5d3326",
   "metadata": {
    "id": "0e5d3326",
    "outputId": "6e71483f-6cc9-4e9a-9eae-844ed12105b3"
   },
   "outputs": [],
   "source": [
    "lss = train_val(y_train, y_train_pred, y_test, y_pred, \"lasso\") \n",
    "\n",
    "lss"
   ]
  },
  {
   "cell_type": "code",
   "execution_count": null,
   "id": "careful-assignment",
   "metadata": {
    "id": "careful-assignment",
    "outputId": "b7ddc6a9-c4a7-4d8c-8e8c-833306d01a21"
   },
   "outputs": [],
   "source": [
    "pd.concat([ls, rs, rcs, lss], axis = 1)"
   ]
  },
  {
   "cell_type": "markdown",
   "id": "accessible-forwarding",
   "metadata": {
    "id": "accessible-forwarding"
   },
   "source": [
    "## For Lasso CV with Default Alpha : 1"
   ]
  },
  {
   "cell_type": "code",
   "execution_count": null,
   "id": "opposite-airline",
   "metadata": {
    "id": "opposite-airline"
   },
   "outputs": [],
   "source": [
    "model = Pipeline([(\"scaler\", scaler), (\"lasso\", lasso_model)])\n",
    "scores = cross_validate(model, X_train, y_train,\n",
    "                        scoring=['r2', 'neg_mean_absolute_error','neg_mean_squared_error','neg_root_mean_squared_error'], cv=5)"
   ]
  },
  {
   "cell_type": "code",
   "execution_count": null,
   "id": "c9e3edb8",
   "metadata": {
    "id": "c9e3edb8",
    "outputId": "96912eee-6c93-4fc8-aff0-db0ce40e275d"
   },
   "outputs": [],
   "source": [
    "pd.DataFrame(scores, index = range(1, 6))"
   ]
  },
  {
   "cell_type": "code",
   "execution_count": null,
   "id": "processed-framework",
   "metadata": {
    "id": "processed-framework",
    "outputId": "27414694-64af-4bc1-ac0f-4276aa061fb3"
   },
   "outputs": [],
   "source": [
    "scores = pd.DataFrame(scores, index = range(1, 6))\n",
    "scores.iloc[:,2:].mean()"
   ]
  },
  {
   "cell_type": "code",
   "execution_count": null,
   "id": "c7c3bc9e",
   "metadata": {
    "id": "c7c3bc9e",
    "outputId": "c9698925-95cf-4774-c853-88f9cda8dd74"
   },
   "outputs": [],
   "source": [
    "train_val(y_train, y_train_pred, y_test, y_pred, \"lasso\")"
   ]
  },
  {
   "cell_type": "code",
   "execution_count": null,
   "id": "continued-voltage",
   "metadata": {
    "id": "continued-voltage",
    "outputId": "9303a189-4a5b-4924-a7c1-e1278afb5c01"
   },
   "outputs": [],
   "source": [
    "model[\"lasso\"].coef_"
   ]
  },
  {
   "cell_type": "code",
   "execution_count": null,
   "id": "fifty-heavy",
   "metadata": {
    "id": "fifty-heavy"
   },
   "outputs": [],
   "source": [
    "lsm_df = pd.DataFrame(model[\"lasso\"].coef_, columns = [\"lasso_coef_1\"])"
   ]
  },
  {
   "cell_type": "code",
   "execution_count": null,
   "id": "small-regression",
   "metadata": {
    "id": "small-regression",
    "outputId": "58eaa32d-6e48-4406-f441-94f4ec814d8e"
   },
   "outputs": [],
   "source": [
    "pd.concat([lm_df, rm_df, rcm_df, lsm_df], axis = 1) "
   ]
  },
  {
   "cell_type": "code",
   "execution_count": null,
   "id": "packed-shelter",
   "metadata": {
    "id": "packed-shelter"
   },
   "outputs": [],
   "source": []
  },
  {
   "cell_type": "markdown",
   "id": "sporting-moral",
   "metadata": {
    "id": "sporting-moral"
   },
   "source": [
    "### Choosing best alpha value with Cross-Validation"
   ]
  },
  {
   "cell_type": "code",
   "execution_count": null,
   "id": "chemical-egypt",
   "metadata": {
    "id": "chemical-egypt"
   },
   "outputs": [],
   "source": [
    "lasso_cv_model = LassoCV(alphas = alpha_space, cv = 10, max_iter=100000, random_state=42) # will be used in pipeline later"
   ]
  },
  {
   "cell_type": "code",
   "execution_count": null,
   "id": "bf02c2d2",
   "metadata": {},
   "outputs": [],
   "source": [
    "pipe_lassocv = Pipeline([(\"scaler\", scaler), (\"lassocv\", lasso_cv_model)]) # pipeline is used to combine scaler and model"
   ]
  },
  {
   "cell_type": "code",
   "execution_count": null,
   "id": "seeing-visit",
   "metadata": {
    "id": "seeing-visit",
    "outputId": "99c1097a-092c-40b1-c508-5bc5156b2816"
   },
   "outputs": [],
   "source": [
    "pipe_lassocv.fit(X_train, y_train)"
   ]
  },
  {
   "cell_type": "code",
   "execution_count": null,
   "id": "gentle-arlington",
   "metadata": {
    "id": "gentle-arlington",
    "outputId": "bd2a1a0d-1eb4-4d78-af77-b75f22f486dd"
   },
   "outputs": [],
   "source": [
    "pipe_lassocv[\"lassocv\"].alpha_"
   ]
  },
  {
   "cell_type": "code",
   "execution_count": null,
   "id": "f611f2e0",
   "metadata": {
    "id": "f611f2e0"
   },
   "outputs": [],
   "source": [
    "# Lasso(alpha =0.1)\n",
    "y_pred = pipe_lassocv.predict(X_test)   \n",
    "y_train_pred = pipe_lassocv.predict(X_train)"
   ]
  },
  {
   "cell_type": "code",
   "execution_count": null,
   "id": "321f17f8",
   "metadata": {
    "id": "321f17f8",
    "outputId": "29c60e12-df45-4192-89da-7aca01be0f06"
   },
   "outputs": [],
   "source": [
    "lcs = train_val(y_train, y_train_pred, y_test, y_pred, \"lasso_cv\")\n",
    "lcs"
   ]
  },
  {
   "cell_type": "code",
   "execution_count": null,
   "id": "coral-bones",
   "metadata": {
    "id": "coral-bones",
    "outputId": "ba6af59a-f0e1-4be3-d544-f6eb32a49660"
   },
   "outputs": [],
   "source": [
    "pd.concat([ls,rs, rcs, lss, lcs], axis = 1)"
   ]
  },
  {
   "cell_type": "code",
   "execution_count": null,
   "id": "reliable-eugene",
   "metadata": {
    "id": "reliable-eugene",
    "outputId": "56162482-38f4-4cdf-f15d-d036996a735d"
   },
   "outputs": [],
   "source": [
    "pipe_lassocv[\"lassocv\"].coef_"
   ]
  },
  {
   "cell_type": "code",
   "execution_count": null,
   "id": "differential-greece",
   "metadata": {
    "id": "differential-greece"
   },
   "outputs": [],
   "source": [
    "lcm_df = pd.DataFrame(pipe_lassocv[\"lassocv\"].coef_, columns = [\"lasso_cv_coef_0.1\"])"
   ]
  },
  {
   "cell_type": "code",
   "execution_count": null,
   "id": "occasional-trace",
   "metadata": {
    "id": "occasional-trace",
    "outputId": "ed677bba-42f3-4706-9c5b-242407ad255c"
   },
   "outputs": [],
   "source": [
    "pd.concat([lm_df, rm_df, rcm_df, lsm_df, lcm_df], axis = 1) # (7 fearures ile) test_r2 = 0.90"
   ]
  },
  {
   "cell_type": "markdown",
   "id": "brown-slovak",
   "metadata": {
    "id": "brown-slovak"
   },
   "source": [
    "## Elastic net"
   ]
  },
  {
   "cell_type": "code",
   "execution_count": null,
   "id": "impossible-trailer",
   "metadata": {
    "id": "impossible-trailer"
   },
   "outputs": [],
   "source": [
    "from sklearn.linear_model import ElasticNet, ElasticNetCV"
   ]
  },
  {
   "cell_type": "code",
   "execution_count": null,
   "id": "196b720b",
   "metadata": {},
   "outputs": [],
   "source": [
    "elastic_model = ElasticNet(alpha=1, l1_ratio=0.5, random_state=42) # l1_ratio is used to control the amount of L1 and L2 regularization"
   ]
  },
  {
   "cell_type": "code",
   "execution_count": null,
   "id": "e7a80a29",
   "metadata": {},
   "outputs": [],
   "source": [
    "pipe_elastic = Pipeline([(\"scaler\", scaler), (\"elastic\", elastic_model)]) # pipeline is used to combine scaler and model"
   ]
  },
  {
   "cell_type": "code",
   "execution_count": null,
   "id": "accessible-performer",
   "metadata": {
    "id": "accessible-performer",
    "outputId": "d03f1ea8-d504-4c68-fec8-39e74d0a2ec2"
   },
   "outputs": [],
   "source": [
    "\n",
    "pipe_elastic.fit(X_train, y_train)"
   ]
  },
  {
   "cell_type": "code",
   "execution_count": null,
   "id": "8e16ca02",
   "metadata": {
    "id": "8e16ca02"
   },
   "outputs": [],
   "source": [
    "y_pred = pipe_elastic.predict(X_test)\n",
    "y_train_pred = pipe_elastic.predict(X_train)"
   ]
  },
  {
   "cell_type": "code",
   "execution_count": null,
   "id": "d09dac01",
   "metadata": {
    "id": "d09dac01",
    "outputId": "19270273-d3c3-45dc-cc9d-187836baa9bc"
   },
   "outputs": [],
   "source": [
    "es = train_val(y_train, y_train_pred, y_test, y_pred, \"elastic\")\n",
    "es"
   ]
  },
  {
   "cell_type": "code",
   "execution_count": null,
   "id": "considerable-exhibit",
   "metadata": {
    "id": "considerable-exhibit",
    "outputId": "147365c1-9076-4b6f-cd67-08a416ac7265"
   },
   "outputs": [],
   "source": [
    "pd.concat([ls,rs, rcs, lss, lcs, es], axis = 1)"
   ]
  },
  {
   "cell_type": "markdown",
   "id": "31827840",
   "metadata": {
    "id": "31827840"
   },
   "source": [
    "## For Elastic_net CV with Default alpha = 1 and l1_ratio=0.5"
   ]
  },
  {
   "cell_type": "code",
   "execution_count": null,
   "id": "7d598f6c",
   "metadata": {
    "id": "7d598f6c"
   },
   "outputs": [],
   "source": [
    "model = Pipeline([(\"scaler\", scaler), (\"elastic\", ElasticNet(alpha=1, l1_ratio=0.5, random_state=42))])\n",
    "\n",
    "scores = cross_validate(model, X_train, y_train,\n",
    "                        scoring=['r2', 'neg_mean_absolute_error','neg_mean_squared_error','neg_root_mean_squared_error'], cv=5)"
   ]
  },
  {
   "cell_type": "code",
   "execution_count": null,
   "id": "0ad1a9b8",
   "metadata": {
    "id": "0ad1a9b8",
    "outputId": "c0c725a8-f568-4a20-bd16-4e73051f4b12"
   },
   "outputs": [],
   "source": [
    "scores = pd.DataFrame(scores, index = range(1, 6))\n",
    "scores.iloc[:,2:]"
   ]
  },
  {
   "cell_type": "code",
   "execution_count": null,
   "id": "d9a8bdcd",
   "metadata": {
    "id": "d9a8bdcd",
    "outputId": "ccbbd60f-06cc-4662-fe46-95b432f358ca"
   },
   "outputs": [],
   "source": [
    "scores = pd.DataFrame(scores, index = range(1, 11))\n",
    "scores.iloc[:,2:].mean()"
   ]
  },
  {
   "cell_type": "code",
   "execution_count": null,
   "id": "e3f0bdf3",
   "metadata": {
    "id": "e3f0bdf3",
    "outputId": "bcadf3e2-0aea-4518-9f19-af643837686b"
   },
   "outputs": [],
   "source": [
    "train_val(y_train, y_train_pred, y_test, y_pred, \"elastic\")"
   ]
  },
  {
   "cell_type": "code",
   "execution_count": null,
   "id": "advised-convertible",
   "metadata": {
    "id": "advised-convertible",
    "outputId": "39568bd2-bdcc-4796-c8fc-b84355416399"
   },
   "outputs": [],
   "source": [
    "pipe_elastic[\"elastic\"].coef_"
   ]
  },
  {
   "cell_type": "code",
   "execution_count": null,
   "id": "extraordinary-australian",
   "metadata": {
    "id": "extraordinary-australian"
   },
   "outputs": [],
   "source": [
    "em_df = pd.DataFrame(pipe_elastic[\"elastic\"].coef_, columns=[\"elastic_coef_(alp:1, L1:0.5)\"])"
   ]
  },
  {
   "cell_type": "code",
   "execution_count": null,
   "id": "governmental-louisiana",
   "metadata": {
    "id": "governmental-louisiana",
    "outputId": "f2b3581b-5586-46b0-8d4a-8cde500fad60"
   },
   "outputs": [],
   "source": [
    "pd.concat([lm_df, rm_df, rcm_df, lsm_df, lcm_df, em_df], axis = 1)"
   ]
  },
  {
   "cell_type": "markdown",
   "id": "anticipated-disabled",
   "metadata": {
    "id": "anticipated-disabled"
   },
   "source": [
    "## Grid Search for ElasticNet\n"
   ]
  },
  {
   "cell_type": "code",
   "execution_count": null,
   "id": "public-belgium",
   "metadata": {
    "id": "public-belgium"
   },
   "outputs": [],
   "source": [
    "from sklearn.model_selection import GridSearchCV"
   ]
  },
  {
   "cell_type": "code",
   "execution_count": null,
   "id": "developmental-framework",
   "metadata": {
    "id": "developmental-framework"
   },
   "outputs": [],
   "source": [
    "elastic_model = ElasticNet(max_iter=10000, random_state=42) "
   ]
  },
  {
   "cell_type": "code",
   "execution_count": null,
   "id": "ba223897",
   "metadata": {},
   "outputs": [],
   "source": [
    "pipe_elastic = Pipeline([(\"scaler\", scaler), (\"elastic\", elastic_model)]) # pipeline is used to combine scaler and model"
   ]
  },
  {
   "cell_type": "code",
   "execution_count": null,
   "id": "electronic-pollution",
   "metadata": {
    "id": "electronic-pollution"
   },
   "outputs": [],
   "source": [
    "param_grid = {\"elastic__alpha\":alpha_space,\n",
    "            \"elastic__l1_ratio\":[0.1, 0.5, 0.7,0.9, 0.95, 1]}"
   ]
  },
  {
   "cell_type": "code",
   "execution_count": null,
   "id": "recovered-ideal",
   "metadata": {
    "id": "recovered-ideal"
   },
   "outputs": [],
   "source": [
    "grid_model = GridSearchCV(estimator = pipe_elastic, param_grid = param_grid, scoring = 'neg_root_mean_squared_error',\n",
    "                         cv =10, verbose =2)"
   ]
  },
  {
   "cell_type": "code",
   "execution_count": null,
   "id": "pleasant-scout",
   "metadata": {
    "id": "pleasant-scout",
    "outputId": "ecf8b3e0-4c4f-491b-9f71-053be98cde8c"
   },
   "outputs": [],
   "source": [
    "grid_model.fit(X_train, y_train)"
   ]
  },
  {
   "cell_type": "code",
   "execution_count": null,
   "id": "short-snowboard",
   "metadata": {
    "id": "short-snowboard",
    "outputId": "747e7a41-af92-41b8-dd58-46bd23d7744a"
   },
   "outputs": [],
   "source": [
    "grid_model.best_params_"
   ]
  },
  {
   "cell_type": "code",
   "execution_count": null,
   "id": "0ecfeb4b",
   "metadata": {
    "id": "0ecfeb4b"
   },
   "outputs": [],
   "source": [
    "y_pred = grid_model.predict(X_test)\n",
    "y_train_pred = grid_model.predict(X_train)"
   ]
  },
  {
   "cell_type": "code",
   "execution_count": null,
   "id": "5b7d87c7",
   "metadata": {
    "id": "5b7d87c7",
    "outputId": "93b53fff-62fc-436f-cf5e-6f7eceb20596"
   },
   "outputs": [],
   "source": [
    "gm = train_val(y_train, y_train_pred, y_test, y_pred, \"elastic_grid\")\n",
    "gm\n"
   ]
  },
  {
   "cell_type": "code",
   "execution_count": null,
   "id": "16a16db9",
   "metadata": {
    "id": "16a16db9",
    "outputId": "4fcf9b6b-0225-47ec-80f4-7396764c78ee"
   },
   "outputs": [],
   "source": [
    "pd.concat([ls,rs, rcs, lss, lcs, es, gm], axis = 1)"
   ]
  },
  {
   "cell_type": "markdown",
   "id": "exempt-relationship",
   "metadata": {
    "id": "exempt-relationship"
   },
   "source": [
    "## Feature importances with Ridge"
   ]
  },
  {
   "cell_type": "code",
   "execution_count": null,
   "id": "awful-split",
   "metadata": {
    "id": "awful-split",
    "outputId": "e0168809-3dc3-44f1-8a80-2f567d9b4302",
    "scrolled": false
   },
   "outputs": [],
   "source": [
    "from yellowbrick.model_selection import FeatureImportances \n",
    "\n",
    "model = Ridge(alpha=pipe_ridgecv[\"ridgecv\"].alpha_)  # ridge_cv_model.alpha_ = 0.91\n",
    "viz = FeatureImportances(model,labels=list(X.columns),relative=False)\n",
    "viz.fit(X_train_scaled,y_train)\n",
    "viz.show()\n",
    "\n"
   ]
  },
  {
   "cell_type": "markdown",
   "id": "center-people",
   "metadata": {
    "id": "center-people"
   },
   "source": [
    "## Feature importances with Lasso"
   ]
  },
  {
   "cell_type": "code",
   "execution_count": null,
   "id": "c249cc44",
   "metadata": {},
   "outputs": [],
   "source": [
    "pipe_lassocv[\"lassocv\"].alpha_"
   ]
  },
  {
   "cell_type": "code",
   "execution_count": null,
   "id": "ad2d9ab6",
   "metadata": {
    "id": "ad2d9ab6",
    "outputId": "22b322a4-e8f4-4c40-8b78-8be6f2ed4548"
   },
   "outputs": [],
   "source": [
    "from yellowbrick.model_selection import FeatureImportances\n",
    "\n",
    "model = Lasso(alpha=pipe_lassocv[\"lassocv\"].alpha_)  # lasso_cv_model.alpha_ = 0.1\n",
    "viz = FeatureImportances(model,labels=list(X.columns),relative=False)\n",
    "viz.fit(X_train_scaled,y_train)\n",
    "viz.show()"
   ]
  },
  {
   "cell_type": "markdown",
   "id": "84tj-N8RHpIq",
   "metadata": {
    "id": "84tj-N8RHpIq"
   },
   "source": [
    "___\n",
    "\n",
    "<p style=\"text-align: center;\"><img src=\"https://docs.google.com/uc?id=1lY0Uj5R04yMY3-ZppPWxqCr5pvBLYPnV\" class=\"img-fluid\" alt=\"CLRSWY\"></p>\n",
    "\n",
    "___"
   ]
  }
 ],
 "metadata": {
  "colab": {
   "collapsed_sections": [],
   "name": "cement_slump_solution.ipynb",
   "provenance": []
  },
  "kernelspec": {
   "display_name": "Python 3 (ipykernel)",
   "language": "python",
   "name": "python3"
  },
  "language_info": {
   "codemirror_mode": {
    "name": "ipython",
    "version": 3
   },
   "file_extension": ".py",
   "mimetype": "text/x-python",
   "name": "python",
   "nbconvert_exporter": "python",
   "pygments_lexer": "ipython3",
   "version": "3.9.12"
  },
  "vscode": {
   "interpreter": {
    "hash": "b91502e98c93ec413571a3c4a71c4e7e2f090119475bdef759aa0802c5125d05"
   }
  }
 },
 "nbformat": 4,
 "nbformat_minor": 5
}
